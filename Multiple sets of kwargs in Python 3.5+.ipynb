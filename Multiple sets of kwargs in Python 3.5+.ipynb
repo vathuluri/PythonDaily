{
 "cells": [
  {
   "cell_type": "code",
   "execution_count": null,
   "metadata": {},
   "outputs": [],
   "source": [
    "# Python 3.5+ allows passing multiple sets\n",
    "# of keyword arguments (\"kwargs\") to a\n",
    "# function within a single call, using\n",
    "# the \"**\" syntax:\n",
    "\n",
    ">>> def process_data(a, b, c, d):\n",
    ">>>    print(a, b, c, d)\n",
    "\n",
    ">>> x = {'a': 1, 'b': 2}\n",
    ">>> y = {'c': 3, 'd': 4}\n",
    "\n",
    ">>> process_data(**x, **y)\n",
    "1 2 3 4\n",
    "\n",
    ">>> process_data(**x, c=23, d=42)\n",
    "1 2 23 42"
   ]
  }
 ],
 "metadata": {
  "kernelspec": {
   "display_name": "Python 3",
   "language": "python",
   "name": "python3"
  }
 },
 "nbformat": 4,
 "nbformat_minor": 2
}
