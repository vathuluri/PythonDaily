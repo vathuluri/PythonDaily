{
 "cells": [
  {
   "cell_type": "code",
   "execution_count": null,
   "metadata": {},
   "outputs": [],
   "source": [
    "import logging\n",
    "import threading\n",
    "import time\n",
    "\n",
    "def worker(arg):\n",
    "    while not arg[\"stop\"]:\n",
    "        logging.debug(\"worker thread checking in\")\n",
    "        time.sleep(1)\n",
    "\n",
    "def main():\n",
    "    logging.basicConfig(\n",
    "        level=logging.DEBUG,\n",
    "        format=\"%(relativeCreated)6d %(threadName)s %(message)s\"\n",
    "    )\n",
    "    info = {\"stop\": False}\n",
    "    thread = threading.Thread(target=worker, args=(info,))\n",
    "    thread_two = threading.Thread(target=worker, args=(info,))\n",
    "    thread.start()\n",
    "    thread_two.start()\n",
    "\n",
    "    while True:\n",
    "        try:\n",
    "            logging.debug(\"Checking in from main thread\")\n",
    "            time.sleep(0.75)\n",
    "        except KeyboardInterrupt:\n",
    "            info[\"stop\"] = True\n",
    "            logging.debug('Stopping')\n",
    "            break\n",
    "    thread.join()\n",
    "    thread_two.join()\n",
    "\n",
    "if __name__ == \"__main__\":\n",
    "    main()"
   ]
  },
  {
   "cell_type": "code",
   "execution_count": null,
   "metadata": {},
   "outputs": [],
   "source": []
  }
 ],
 "metadata": {
  "kernelspec": {
   "display_name": "Python 3",
   "language": "python",
   "name": "python3"
  }
 },
 "nbformat": 4,
 "nbformat_minor": 2
}
