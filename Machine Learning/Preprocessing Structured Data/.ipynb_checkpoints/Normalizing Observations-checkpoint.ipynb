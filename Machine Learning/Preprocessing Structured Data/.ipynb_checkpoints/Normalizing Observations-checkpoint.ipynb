{
 "cells": [
  {
   "cell_type": "code",
   "execution_count": 1,
   "metadata": {},
   "outputs": [],
   "source": [
    "## Preliminaries\n",
    "# Load libraries\n",
    "from sklearn.preprocessing import Normalizer\n",
    "import numpy as np"
   ]
  },
  {
   "cell_type": "code",
   "execution_count": 2,
   "metadata": {},
   "outputs": [],
   "source": [
    "## Create Feature Matrix\n",
    "# Create feature matrix\n",
    "X = np.array([[0.5, 0.5], \n",
    "              [1.1, 3.4], \n",
    "              [1.5, 20.2], \n",
    "              [1.63, 34.4], \n",
    "              [10.9, 3.3]])"
   ]
  },
  {
   "cell_type": "code",
   "execution_count": 3,
   "metadata": {},
   "outputs": [
    {
     "data": {
      "text/plain": [
       "array([[0.70710678, 0.70710678],\n",
       "       [0.30782029, 0.95144452],\n",
       "       [0.07405353, 0.99725427],\n",
       "       [0.04733062, 0.99887928],\n",
       "       [0.95709822, 0.28976368]])"
      ]
     },
     "execution_count": 3,
     "metadata": {},
     "output_type": "execute_result"
    }
   ],
   "source": [
    "##Normalize Observations\n",
    "### Normalizer rescales the values on individual observations to have unit norm (the sum of their lengths is one).\n",
    "\n",
    "# Create normalizer\n",
    "normalizer = Normalizer(norm='l2')\n",
    "\n",
    "# Transform feature matrix\n",
    "normalizer.transform(X)"
   ]
  },
  {
   "cell_type": "code",
   "execution_count": null,
   "metadata": {},
   "outputs": [],
   "source": []
  }
 ],
 "metadata": {
  "kernelspec": {
   "display_name": "Python 3",
   "language": "python",
   "name": "python3"
  },
  "language_info": {
   "codemirror_mode": {
    "name": "ipython",
    "version": 3
   },
   "file_extension": ".py",
   "mimetype": "text/x-python",
   "name": "python",
   "nbconvert_exporter": "python",
   "pygments_lexer": "ipython3",
   "version": "3.7.0"
  }
 },
 "nbformat": 4,
 "nbformat_minor": 2
}
