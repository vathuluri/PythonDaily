{
 "cells": [
  {
   "cell_type": "code",
   "execution_count": null,
   "metadata": {},
   "outputs": [],
   "source": [
    "# Python's `for` and `while` loops\n",
    "# support an `else` clause that executes\n",
    "# only if the loops terminates without\n",
    "# hitting a `break` statement.\n",
    "\n",
    "def contains(haystack, needle):\n",
    "    \"\"\"\n",
    "    Throw a ValueError if `needle` not\n",
    "    in `haystack`.\n",
    "    \"\"\"\n",
    "    for item in haystack:\n",
    "        if item == needle:\n",
    "            break\n",
    "    else:\n",
    "        # The `else` here is a\n",
    "        # \"completion clause\" that runs\n",
    "        # only if the loop ran to completion\n",
    "        # without hitting a `break` statement.\n",
    "        raise ValueError('Needle not found')\n",
    "\n",
    "\n",
    ">>> contains([23, 'needle', 0xbadc0ffee], 'needle')\n",
    "None\n",
    "\n",
    ">>> contains([23, 42, 0xbadc0ffee], 'needle')\n",
    "ValueError: \"Needle not found\"\n",
    "\n",
    "\n",
    "# Personally, I'm not a fan of the `else`\n",
    "# \"completion clause\" in loops because\n",
    "# I find it confusing. I'd rather do\n",
    "# something like this:\n",
    "def better_contains(haystack, needle):\n",
    "    for item in haystack:\n",
    "        if item == needle:\n",
    "            return\n",
    "    raise ValueError('Needle not found')\n",
    "\n",
    "# Note: Typically you'd write something\n",
    "# like this to do a membership test,\n",
    "# which is much more Pythonic:\n",
    "if needle not in haystack:\n",
    "    raise ValueError('Needle not found')"
   ]
  }
 ],
 "metadata": {
  "kernelspec": {
   "display_name": "Python 3",
   "language": "python",
   "name": "python3"
  },
  "language_info": {
   "codemirror_mode": {
    "name": "ipython",
    "version": 3
   },
   "file_extension": ".py",
   "mimetype": "text/x-python",
   "name": "python",
   "nbconvert_exporter": "python",
   "pygments_lexer": "ipython3",
   "version": "3.6.5"
  }
 },
 "nbformat": 4,
 "nbformat_minor": 2
}
