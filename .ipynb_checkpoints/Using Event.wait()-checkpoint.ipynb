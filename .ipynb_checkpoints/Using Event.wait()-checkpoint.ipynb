{
 "cells": [
  {
   "cell_type": "code",
   "execution_count": null,
   "metadata": {},
   "outputs": [],
   "source": [
    "import logging\n",
    "import threading\n",
    "\n",
    "def worker(event):\n",
    "    while not event.isSet():\n",
    "        logging.debug(\"worker thread checking in\")\n",
    "        event.wait(1)\n",
    "\n",
    "def main():\n",
    "    logging.basicConfig(\n",
    "        level=logging.DEBUG,\n",
    "        format=\"%(relativeCreated)6d %(threadName)s %(message)s\"\n",
    "    )\n",
    "    event = threading.Event()\n",
    "\n",
    "    thread = threading.Thread(target=worker, args=(event,))\n",
    "    thread_two = threading.Thread(target=worker, args=(event,))\n",
    "    thread.start()\n",
    "    thread_two.start()\n",
    "\n",
    "    while not event.isSet():\n",
    "        try:\n",
    "            logging.debug(\"Checking in from main thread\")\n",
    "            event.wait(0.75)\n",
    "        except KeyboardInterrupt:\n",
    "            event.set()\n",
    "            break\n",
    "\n",
    "if __name__ == \"__main__\":\n",
    "    main()"
   ]
  }
 ],
 "metadata": {
  "kernelspec": {
   "display_name": "Python 3",
   "language": "python",
   "name": "python3"
  }
 },
 "nbformat": 4,
 "nbformat_minor": 2
}
