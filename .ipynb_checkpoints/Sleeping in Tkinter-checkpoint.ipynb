{
 "cells": [
  {
   "cell_type": "code",
   "execution_count": null,
   "metadata": {},
   "outputs": [],
   "source": [
    "import tkinter\n",
    "import time\n",
    "\n",
    "class MyApp:\n",
    "    def __init__(self, parent):\n",
    "        self.root = parent\n",
    "        self.root.geometry(\"400x400\")\n",
    "        self.frame = tkinter.Frame(parent)\n",
    "        self.frame.pack()\n",
    "        b = tkinter.Button(text=\"click me\", command=self.delayed)\n",
    "        b.pack()\n",
    "\n",
    "    def delayed(self):\n",
    "        time.sleep(3)\n",
    "\n",
    "if __name__ == \"__main__\":\n",
    "    root = tkinter.Tk()\n",
    "    app = MyApp(root)\n",
    "    root.mainloop()"
   ]
  }
 ],
 "metadata": {
  "kernelspec": {
   "display_name": "Python 3",
   "language": "python",
   "name": "python3"
  }
 },
 "nbformat": 4,
 "nbformat_minor": 2
}
