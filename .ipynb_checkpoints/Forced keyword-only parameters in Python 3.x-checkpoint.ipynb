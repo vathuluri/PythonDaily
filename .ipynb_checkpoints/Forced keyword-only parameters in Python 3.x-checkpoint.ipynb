{
 "cells": [
  {
   "cell_type": "code",
   "execution_count": null,
   "metadata": {},
   "outputs": [],
   "source": [
    "# In Python 3 you can use a bare \"*\" asterisk\n",
    "# in function parameter lists to force the\n",
    "# caller to use keyword arguments for certain\n",
    "# parameters:\n",
    "\n",
    ">>> def f(a, b, *, c='x', d='y', e='z'):\n",
    "...     return 'Hello'\n",
    "\n",
    "# To pass the value for c, d, and e you \n",
    "# will need to explicitly pass it as \n",
    "# \"key=value\" named arguments:\n",
    ">>> f(1, 2, 'p', 'q', 'v')\n",
    "TypeError: \n",
    "\"f() takes 2 positional arguments but 5 were given\"\n",
    "\n",
    ">>> f(1, 2, c='p', d='q',e='v')\n",
    "'Hello'"
   ]
  }
 ],
 "metadata": {
  "kernelspec": {
   "display_name": "Python 3",
   "language": "python",
   "name": "python3"
  }
 },
 "nbformat": 4,
 "nbformat_minor": 2
}
