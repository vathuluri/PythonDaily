{
 "cells": [
  {
   "cell_type": "markdown",
   "metadata": {},
   "source": [
    "# Advanced For Loops in Python"
   ]
  },
  {
   "cell_type": "markdown",
   "metadata": {},
   "source": [
    "## Tuples"
   ]
  },
  {
   "cell_type": "code",
   "execution_count": 1,
   "metadata": {},
   "outputs": [
    {
     "name": "stdout",
     "output_type": "stream",
     "text": [
      "index 0: 10\n",
      "index 1: 20\n",
      "index 2: 30\n",
      "index 3: 40\n",
      "index 4: 50\n"
     ]
    }
   ],
   "source": [
    "x = (10,20,30,40,50)\n",
    "for var in x:\n",
    "    print(\"index \"+ str(x.index(var)) + \":\",var)"
   ]
  },
  {
   "cell_type": "code",
   "execution_count": 3,
   "metadata": {},
   "outputs": [
    {
     "name": "stdout",
     "output_type": "stream",
     "text": [
      "1 plus 2 equals 3\n",
      "3 plus 4 equals 7\n",
      "5 plus 6 equals 11\n"
     ]
    }
   ],
   "source": [
    "x = [(1,2), (3,4), (5,6)]\n",
    "\n",
    "for a, b in x:\n",
    "    print(a, \"plus\", b, \"equals\", a+b)"
   ]
  },
  {
   "cell_type": "markdown",
   "metadata": {},
   "source": [
    "## Dictionaries"
   ]
  },
  {
   "cell_type": "code",
   "execution_count": 4,
   "metadata": {},
   "outputs": [
    {
     "name": "stdout",
     "output_type": "stream",
     "text": [
      "AAPL : 187.31\n",
      "MSFT : 124.06\n",
      "FB : 183.5\n"
     ]
    }
   ],
   "source": [
    "stocks = {\n",
    "        'AAPL': 187.31,\n",
    "        'MSFT': 124.06,\n",
    "        'FB': 183.50\n",
    "    }\n",
    "\n",
    "for key, value in stocks.items() :\n",
    "    print(key + \" : \" + str(value))"
   ]
  },
  {
   "cell_type": "markdown",
   "metadata": {},
   "source": [
    "## Strings"
   ]
  },
  {
   "cell_type": "code",
   "execution_count": 5,
   "metadata": {},
   "outputs": [
    {
     "name": "stdout",
     "output_type": "stream",
     "text": [
      "data science\n",
      "d\n",
      "a\n",
      "t\n",
      "a\n",
      " \n",
      "s\n",
      "c\n",
      "i\n",
      "e\n",
      "n\n",
      "c\n",
      "e\n"
     ]
    }
   ],
   "source": [
    "print(\"data science\")\n",
    "for c in \"data science\":\n",
    "    print(c)"
   ]
  },
  {
   "cell_type": "markdown",
   "metadata": {},
   "source": [
    "## Numpy Arrays"
   ]
  },
  {
   "cell_type": "code",
   "execution_count": 6,
   "metadata": {},
   "outputs": [],
   "source": [
    "import numpy as np\n",
    "np.random.seed(0)  # seed for reproducibility\n",
    "x = np.random.randint(10, size=6)\n",
    "y = np.random.randint(10, size=6)"
   ]
  },
  {
   "cell_type": "code",
   "execution_count": 7,
   "metadata": {},
   "outputs": [
    {
     "name": "stdout",
     "output_type": "stream",
     "text": [
      "5\n",
      "0\n",
      "3\n",
      "3\n",
      "7\n",
      "9\n"
     ]
    }
   ],
   "source": [
    "for val in x:\n",
    "    print(val)"
   ]
  },
  {
   "cell_type": "code",
   "execution_count": 8,
   "metadata": {},
   "outputs": [
    {
     "name": "stdout",
     "output_type": "stream",
     "text": [
      "[5 0 3 3 7 9]\n",
      "[3 5 2 4 7 6]\n"
     ]
    }
   ],
   "source": [
    "# creating our 2-dimensional array\n",
    "z = np.array([x, y])\n",
    "\n",
    "for val in z:\n",
    "    print(val)"
   ]
  },
  {
   "cell_type": "code",
   "execution_count": 9,
   "metadata": {},
   "outputs": [
    {
     "name": "stdout",
     "output_type": "stream",
     "text": [
      "5\n",
      "0\n",
      "3\n",
      "3\n",
      "7\n",
      "9\n",
      "3\n",
      "5\n",
      "2\n",
      "4\n",
      "7\n",
      "6\n"
     ]
    }
   ],
   "source": [
    "for val in np.nditer(z):\n",
    "    print(val)"
   ]
  },
  {
   "cell_type": "markdown",
   "metadata": {},
   "source": [
    "## Pandas DataFrames"
   ]
  },
  {
   "cell_type": "code",
   "execution_count": 10,
   "metadata": {},
   "outputs": [
    {
     "name": "stdout",
     "output_type": "stream",
     "text": [
      "Capital\n",
      "GDP ($US Trillion)\n",
      "Population \n"
     ]
    }
   ],
   "source": [
    "import pandas as pd\n",
    "df = pd.read_csv('gdp.csv', index_col=0)\n",
    "\n",
    "for val in df:\n",
    "    print(val)"
   ]
  },
  {
   "cell_type": "code",
   "execution_count": 11,
   "metadata": {},
   "outputs": [
    {
     "name": "stdout",
     "output_type": "stream",
     "text": [
      "Ireland\n",
      "Capital                Dublin\n",
      "GDP ($US Trillion)     0.3337\n",
      "Population            4784000\n",
      "Name: Ireland, dtype: object\n",
      "United Kingdom\n",
      "Capital                 London\n",
      "GDP ($US Trillion)       2.622\n",
      "Population            66040000\n",
      "Name: United Kingdom, dtype: object\n",
      "United States\n",
      "Capital               Washington, D.C.\n",
      "GDP ($US Trillion)               19.39\n",
      "Population                   327200000\n",
      "Name: United States, dtype: object\n",
      "China\n",
      "Capital                  Beijing\n",
      "GDP ($US Trillion)         12.24\n",
      "Population            1386000000\n",
      "Name: China, dtype: object\n",
      "India\n",
      "Capital                New Delhi\n",
      "GDP ($US Trillion)         2.597\n",
      "Population            1339000000\n",
      "Name: India, dtype: object\n",
      "Germany\n",
      "Capital                 Berlin\n",
      "GDP ($US Trillion)       3.677\n",
      "Population            82790000\n",
      "Name: Germany, dtype: object\n"
     ]
    }
   ],
   "source": [
    "for label, row in df.iterrows():\n",
    "    print(label)\n",
    "    print(row)"
   ]
  },
  {
   "cell_type": "code",
   "execution_count": 12,
   "metadata": {},
   "outputs": [
    {
     "name": "stdout",
     "output_type": "stream",
     "text": [
      "Ireland : Dublin\n",
      "United Kingdom : London\n",
      "United States : Washington, D.C.\n",
      "China : Beijing\n",
      "India : New Delhi\n",
      "Germany : Berlin\n"
     ]
    }
   ],
   "source": [
    "for label, row in df.iterrows():\n",
    "    print(label + \" : \" + row[\"Capital\"])"
   ]
  },
  {
   "cell_type": "code",
   "execution_count": 13,
   "metadata": {},
   "outputs": [
    {
     "name": "stdout",
     "output_type": "stream",
     "text": [
      "                         Capital  GDP ($US Trillion)  Population   \\\n",
      "Country                                                             \n",
      "Ireland                   Dublin              0.3337      4784000   \n",
      "United Kingdom            London              2.6220     66040000   \n",
      "United States   Washington, D.C.             19.3900    327200000   \n",
      "China                    Beijing             12.2400   1386000000   \n",
      "India                  New Delhi              2.5970   1339000000   \n",
      "Germany                   Berlin              3.6770     82790000   \n",
      "\n",
      "                 gdp_per_cap  \n",
      "Country                       \n",
      "Ireland         69753.344482  \n",
      "United Kingdom  39703.210176  \n",
      "United States   59260.391198  \n",
      "China            8831.168831  \n",
      "India            1939.507095  \n",
      "Germany         44413.576519  \n"
     ]
    }
   ],
   "source": [
    "for label, row in df.iterrows():\n",
    "    df.loc[label,'gdp_per_cap'] = row['GDP ($US Trillion)']/row['Population '] * 1000000000000\n",
    "print(df)"
   ]
  },
  {
   "cell_type": "markdown",
   "metadata": {},
   "source": [
    "## The range() function"
   ]
  },
  {
   "cell_type": "code",
   "execution_count": 1,
   "metadata": {},
   "outputs": [
    {
     "name": "stdout",
     "output_type": "stream",
     "text": [
      "0\n",
      "1\n",
      "2\n"
     ]
    }
   ],
   "source": [
    "for i in range(3):\n",
    "    print(i)"
   ]
  },
  {
   "cell_type": "code",
   "execution_count": 2,
   "metadata": {},
   "outputs": [
    {
     "name": "stdout",
     "output_type": "stream",
     "text": [
      "1\n",
      "2\n",
      "3\n",
      "4\n",
      "5\n",
      "6\n",
      "7\n"
     ]
    }
   ],
   "source": [
    "for i in range(1, 8):\n",
    "    print(i)"
   ]
  },
  {
   "cell_type": "code",
   "execution_count": 3,
   "metadata": {},
   "outputs": [
    {
     "name": "stdout",
     "output_type": "stream",
     "text": [
      "3\n",
      "6\n",
      "9\n",
      "12\n",
      "15\n"
     ]
    }
   ],
   "source": [
    "for i in range(3, 16, 3):\n",
    "    print(i)"
   ]
  },
  {
   "cell_type": "code",
   "execution_count": 4,
   "metadata": {},
   "outputs": [
    {
     "name": "stdout",
     "output_type": "stream",
     "text": [
      "Language: Spanish\n",
      "Language: English\n",
      "Language: French\n",
      "Language: German\n",
      "Language: Irish\n",
      "Language: Chinese\n"
     ]
    }
   ],
   "source": [
    "languages = ['Spanish', 'English',  'French', 'German', 'Irish', 'Chinese']\n",
    "\n",
    "for index in range(len(languages)):\n",
    "   print('Language:', languages[index])"
   ]
  },
  {
   "cell_type": "code",
   "execution_count": 5,
   "metadata": {},
   "outputs": [
    {
     "name": "stdout",
     "output_type": "stream",
     "text": [
      "Language: Spanish\n",
      "Language: English\n",
      "Language: French\n",
      "Language: German\n",
      "Language: Irish\n",
      "Language: Chinese\n"
     ]
    }
   ],
   "source": [
    "for index in range(6):\n",
    "    print('Language:', languages[index])"
   ]
  },
  {
   "cell_type": "code",
   "execution_count": null,
   "metadata": {},
   "outputs": [],
   "source": []
  }
 ],
 "metadata": {
  "kernelspec": {
   "display_name": "Python 3",
   "language": "python",
   "name": "python3"
  },
  "language_info": {
   "codemirror_mode": {
    "name": "ipython",
    "version": 3
   },
   "file_extension": ".py",
   "mimetype": "text/x-python",
   "name": "python",
   "nbconvert_exporter": "python",
   "pygments_lexer": "ipython3",
   "version": "3.6.5"
  }
 },
 "nbformat": 4,
 "nbformat_minor": 2
}
