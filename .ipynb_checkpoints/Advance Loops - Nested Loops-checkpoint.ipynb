{
 "cells": [
  {
   "cell_type": "markdown",
   "metadata": {},
   "source": [
    "## Nested Loops"
   ]
  },
  {
   "cell_type": "code",
   "execution_count": 2,
   "metadata": {},
   "outputs": [
    {
     "name": "stdout",
     "output_type": "stream",
     "text": [
      "['Spanish', 'English', 'French', 'German']\n",
      "['Python', 'Java', 'Javascript', 'C++']\n"
     ]
    }
   ],
   "source": [
    "languages = [['Spanish', 'English',  'French', 'German'], ['Python', 'Java', 'Javascript', 'C++']]\n",
    "\n",
    "for lang in languages:\n",
    "    print(lang)"
   ]
  },
  {
   "cell_type": "code",
   "execution_count": 3,
   "metadata": {},
   "outputs": [
    {
     "name": "stdout",
     "output_type": "stream",
     "text": [
      "------\n",
      "Spanish\n",
      "English\n",
      "French\n",
      "German\n",
      "------\n",
      "Python\n",
      "Java\n",
      "Javascript\n",
      "C++\n"
     ]
    }
   ],
   "source": [
    "for x in languages:\n",
    "    print(\"------\")\n",
    "    for lang in x:\n",
    "        print(lang)"
   ]
  },
  {
   "cell_type": "code",
   "execution_count": 4,
   "metadata": {},
   "outputs": [
    {
     "name": "stdout",
     "output_type": "stream",
     "text": [
      "------\n",
      "Spanish\n",
      "English\n",
      "French\n",
      "------\n",
      "Python\n",
      "Java\n",
      "Javascript\n",
      "C++\n"
     ]
    }
   ],
   "source": [
    "for x in languages:\n",
    "    print(\"------\")\n",
    "    for lang in x:\n",
    "        if lang == \"German\":\n",
    "            continue\n",
    "        print(lang)"
   ]
  },
  {
   "cell_type": "code",
   "execution_count": 5,
   "metadata": {},
   "outputs": [
    {
     "name": "stdout",
     "output_type": "stream",
     "text": [
      "1 squared is equal to 1\n",
      "3 squared is equal to 9\n",
      "5 squared is equal to 25\n",
      "7 squared is equal to 49\n",
      "9 squared is equal to 81\n"
     ]
    }
   ],
   "source": [
    "from math import sqrt\n",
    "number = 0\n",
    "\n",
    "for i in range(10):\n",
    "   number = i ** 2\n",
    "\n",
    "   if i % 2 == 0:\n",
    "      continue    # continue here\n",
    "\n",
    "   print(str(round(sqrt(number))) + ' squared is equal to ' + str(number))"
   ]
  },
  {
   "cell_type": "code",
   "execution_count": 6,
   "metadata": {},
   "outputs": [
    {
     "name": "stdout",
     "output_type": "stream",
     "text": [
      "0 squared is equal to 0\n",
      "1 squared is equal to 1\n",
      "2 squared is equal to 4\n",
      "3 squared is equal to 9\n",
      "4 squared is equal to 16\n",
      "5 squared is equal to 25\n",
      "6 squared is equal to 36\n"
     ]
    }
   ],
   "source": [
    "number = 0\n",
    "\n",
    "for i in range(10):\n",
    "   number = i ** 2\n",
    "\n",
    "   if i == 7:\n",
    "      break\n",
    "\n",
    "   print(str(round(sqrt(number))) + ' squared is equal to ' + str(number))"
   ]
  },
  {
   "cell_type": "code",
   "execution_count": null,
   "metadata": {},
   "outputs": [],
   "source": []
  }
 ],
 "metadata": {
  "kernelspec": {
   "display_name": "Python 3",
   "language": "python",
   "name": "python3"
  },
  "language_info": {
   "codemirror_mode": {
    "name": "ipython",
    "version": 3
   },
   "file_extension": ".py",
   "mimetype": "text/x-python",
   "name": "python",
   "nbconvert_exporter": "python",
   "pygments_lexer": "ipython3",
   "version": "3.6.5"
  }
 },
 "nbformat": 4,
 "nbformat_minor": 2
}
