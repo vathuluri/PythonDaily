{
 "cells": [
  {
   "cell_type": "code",
   "execution_count": null,
   "metadata": {},
   "outputs": [],
   "source": [
    "# Pythonic ways of checking if all\n",
    "# items in a list are equal:\n",
    "\n",
    "lst = ['a', 'a', 'a']\n",
    "len(set(lst)) == 1\n",
    "all(x == lst[0] for x in lst)\n",
    "lst.count(lst[0]) == len(lst)\n"
   ]
  },
  {
   "cell_type": "code",
   "execution_count": null,
   "metadata": {},
   "outputs": [],
   "source": []
  }
 ],
 "metadata": {
  "kernelspec": {
   "display_name": "Python 3",
   "language": "python",
   "name": "python3"
  }
 },
 "nbformat": 4,
 "nbformat_minor": 2
}
