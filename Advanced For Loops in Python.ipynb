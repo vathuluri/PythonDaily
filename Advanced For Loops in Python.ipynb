{
 "cells": [
  {
   "cell_type": "markdown",
   "metadata": {},
   "source": [
    "# Advanced For Loops in Python"
   ]
  },
  {
   "cell_type": "markdown",
   "metadata": {},
   "source": [
    "## Tuples"
   ]
  },
  {
   "cell_type": "code",
   "execution_count": 1,
   "metadata": {},
   "outputs": [
    {
     "name": "stdout",
     "output_type": "stream",
     "text": [
      "index 0: 10\n",
      "index 1: 20\n",
      "index 2: 30\n",
      "index 3: 40\n",
      "index 4: 50\n"
     ]
    }
   ],
   "source": [
    "x = (10,20,30,40,50)\n",
    "for var in x:\n",
    "    print(\"index \"+ str(x.index(var)) + \":\",var)"
   ]
  },
  {
   "cell_type": "code",
   "execution_count": 3,
   "metadata": {},
   "outputs": [
    {
     "name": "stdout",
     "output_type": "stream",
     "text": [
      "1 plus 2 equals 3\n",
      "3 plus 4 equals 7\n",
      "5 plus 6 equals 11\n"
     ]
    }
   ],
   "source": [
    "x = [(1,2), (3,4), (5,6)]\n",
    "\n",
    "for a, b in x:\n",
    "    print(a, \"plus\", b, \"equals\", a+b)"
   ]
  },
  {
   "cell_type": "markdown",
   "metadata": {},
   "source": [
    "## Dictionaries"
   ]
  },
  {
   "cell_type": "code",
   "execution_count": 4,
   "metadata": {},
   "outputs": [
    {
     "name": "stdout",
     "output_type": "stream",
     "text": [
      "AAPL : 187.31\n",
      "MSFT : 124.06\n",
      "FB : 183.5\n"
     ]
    }
   ],
   "source": [
    "stocks = {\n",
    "        'AAPL': 187.31,\n",
    "        'MSFT': 124.06,\n",
    "        'FB': 183.50\n",
    "    }\n",
    "\n",
    "for key, value in stocks.items() :\n",
    "    print(key + \" : \" + str(value))"
   ]
  },
  {
   "cell_type": "markdown",
   "metadata": {},
   "source": [
    "## Strings"
   ]
  },
  {
   "cell_type": "code",
   "execution_count": 5,
   "metadata": {},
   "outputs": [
    {
     "name": "stdout",
     "output_type": "stream",
     "text": [
      "data science\n",
      "d\n",
      "a\n",
      "t\n",
      "a\n",
      " \n",
      "s\n",
      "c\n",
      "i\n",
      "e\n",
      "n\n",
      "c\n",
      "e\n"
     ]
    }
   ],
   "source": [
    "print(\"data science\")\n",
    "for c in \"data science\":\n",
    "    print(c)"
   ]
  },
  {
   "cell_type": "markdown",
   "metadata": {},
   "source": [
    "## Numpy Arrays"
   ]
  },
  {
   "cell_type": "code",
   "execution_count": 6,
   "metadata": {},
   "outputs": [],
   "source": [
    "import numpy as np\n",
    "np.random.seed(0)  # seed for reproducibility\n",
    "x = np.random.randint(10, size=6)\n",
    "y = np.random.randint(10, size=6)"
   ]
  },
  {
   "cell_type": "code",
   "execution_count": 7,
   "metadata": {},
   "outputs": [
    {
     "name": "stdout",
     "output_type": "stream",
     "text": [
      "5\n",
      "0\n",
      "3\n",
      "3\n",
      "7\n",
      "9\n"
     ]
    }
   ],
   "source": [
    "for val in x:\n",
    "    print(val)"
   ]
  },
  {
   "cell_type": "code",
   "execution_count": 8,
   "metadata": {},
   "outputs": [
    {
     "name": "stdout",
     "output_type": "stream",
     "text": [
      "[5 0 3 3 7 9]\n",
      "[3 5 2 4 7 6]\n"
     ]
    }
   ],
   "source": [
    "# creating our 2-dimensional array\n",
    "z = np.array([x, y])\n",
    "\n",
    "for val in z:\n",
    "    print(val)"
   ]
  },
  {
   "cell_type": "code",
   "execution_count": 9,
   "metadata": {},
   "outputs": [
    {
     "name": "stdout",
     "output_type": "stream",
     "text": [
      "5\n",
      "0\n",
      "3\n",
      "3\n",
      "7\n",
      "9\n",
      "3\n",
      "5\n",
      "2\n",
      "4\n",
      "7\n",
      "6\n"
     ]
    }
   ],
   "source": [
    "for val in np.nditer(z):\n",
    "    print(val)"
   ]
  },
  {
   "cell_type": "markdown",
   "metadata": {},
   "source": [
    "## Pandas DataFrames"
   ]
  },
  {
   "cell_type": "code",
   "execution_count": null,
   "metadata": {},
   "outputs": [],
   "source": []
  },
  {
   "cell_type": "code",
   "execution_count": null,
   "metadata": {},
   "outputs": [],
   "source": []
  }
 ],
 "metadata": {
  "kernelspec": {
   "display_name": "Python 3",
   "language": "python",
   "name": "python3"
  },
  "language_info": {
   "codemirror_mode": {
    "name": "ipython",
    "version": 3
   },
   "file_extension": ".py",
   "mimetype": "text/x-python",
   "name": "python",
   "nbconvert_exporter": "python",
   "pygments_lexer": "ipython3",
   "version": "3.6.5"
  }
 },
 "nbformat": 4,
 "nbformat_minor": 2
}
