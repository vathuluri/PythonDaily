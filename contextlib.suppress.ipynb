{
 "cells": [
  {
   "cell_type": "code",
   "execution_count": null,
   "metadata": {},
   "outputs": [],
   "source": [
    "# In Python 3.4+ you can use\n",
    "# contextlib.suppress() to selectively\n",
    "# ignore specific exceptions:\n",
    "\n",
    "import contextlib\n",
    "\n",
    "with contextlib.suppress(FileNotFoundError):\n",
    "    os.remove('somefile.tmp')\n",
    "\n",
    "# This is equivalent to:\n",
    "\n",
    "try:\n",
    "    os.remove('somefile.tmp')\n",
    "except FileNotFoundError:\n",
    "    pass\n",
    "\n",
    "# contextlib.suppress docstring: \n",
    "#\n",
    "# \"Return a context manager that suppresses any \n",
    "#  of the specified exceptions if they occur in the body\n",
    "#  of a with statement and then resumes execution with \n",
    "#  the first statement following the end of \n",
    "#  the with statement.\""
   ]
  }
 ],
 "metadata": {
  "kernelspec": {
   "display_name": "Python 3",
   "language": "python",
   "name": "python3"
  }
 },
 "nbformat": 4,
 "nbformat_minor": 2
}
